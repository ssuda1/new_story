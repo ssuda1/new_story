{
 "cells": [
  {
   "cell_type": "code",
   "execution_count": 1,
   "metadata": {},
   "outputs": [],
   "source": [
    "import pandas as pd\n",
    "import numpy as np\n",
    "pd.options.display.max_columns = 300\n",
    "pd.options.display.max_rows = 300\n",
    "data = pd.read_csv('/Users/satokosuda/dataforcause/new_story_data/dataset.csv')\n",
    "import sys\n",
    "sys.setrecursionlimit(100000)\n",
    "pd.set_option('display.max_colwidth',500)"
   ]
  },
  {
   "cell_type": "code",
   "execution_count": 2,
   "metadata": {},
   "outputs": [],
   "source": [
    "data = data.drop(['Tent ID'], axis=1)"
   ]
  },
  {
   "cell_type": "code",
   "execution_count": 3,
   "metadata": {},
   "outputs": [],
   "source": [
    "data1 = data.loc[:, ['Family Bacgkround','Problems in the Tent - Additional Comments','Do you have any other comments, questions or other information you’d like to add?','Would living in a block home create any changes in your life?','Additional Comments - Health']]"
   ]
  },
  {
   "cell_type": "code",
   "execution_count": 4,
   "metadata": {},
   "outputs": [
    {
     "data": {
      "text/html": [
       "<div>\n",
       "<style scoped>\n",
       "    .dataframe tbody tr th:only-of-type {\n",
       "        vertical-align: middle;\n",
       "    }\n",
       "\n",
       "    .dataframe tbody tr th {\n",
       "        vertical-align: top;\n",
       "    }\n",
       "\n",
       "    .dataframe thead th {\n",
       "        text-align: right;\n",
       "    }\n",
       "</style>\n",
       "<table border=\"1\" class=\"dataframe\">\n",
       "  <thead>\n",
       "    <tr style=\"text-align: right;\">\n",
       "      <th></th>\n",
       "      <th>Family Bacgkround</th>\n",
       "      <th>Problems in the Tent - Additional Comments</th>\n",
       "      <th>Do you have any other comments, questions or other information you’d like to add?</th>\n",
       "      <th>Would living in a block home create any changes in your life?</th>\n",
       "      <th>Additional Comments - Health</th>\n",
       "    </tr>\n",
       "  </thead>\n",
       "  <tbody>\n",
       "    <tr>\n",
       "      <th>0</th>\n",
       "      <td>I'm from Kalone, we came here to make coal and we stayed.  I got married &amp; gave birth here .\\nAudio: What led us here is that we were here making charcoal for a time. While we were here, there was no one else in the area. We stayed here instead of going back. We built a house here, we got married here.</td>\n",
       "      <td>the tent is to hot, to many rats and they make me sick often \\nAudio: Rats! I can't sleep inside because of the rats. Rats are crawling all over us and destroying us. The heat, too. I can hardly see in my eyes. I keep having to go to the doctor's.</td>\n",
       "      <td>Im no longer working in Selmale, summer time I work because no rain, I'm sick in my eyes</td>\n",
       "      <td>The tent doesn't have much security when it rains l, the discomfort when the strong nd blows, living in fear\\nAudio: It'll be better for me than the tarp.</td>\n",
       "      <td>I suffer from a hernia, my eyes are sick. I'm in the hospital weekly</td>\n",
       "    </tr>\n",
       "    <tr>\n",
       "      <th>1</th>\n",
       "      <td>I'm from Patyo is neighboring town to Kalone, I came hear for my relatives funeral and stayed.\\nAudio: What brought me to the area... left my home land when I was small and moved to Titanyen. We had a death in the family, and so we came here to attend the funeral, and we stayed. Ever since then we've been living here. January 12 happened, and they gave us the tent. We live in the tent.</td>\n",
       "      <td>My problem are the mosquito's and its so hot I can't  sleep.\\nAudio: Every so often I get a cold. It gives me a fever. The heat is awful. I can't live here. I don't sleep well. Mosquitoes make me unable to sleep well.</td>\n",
       "      <td>My biggest problem is the tent, sh the house could be built faster</td>\n",
       "      <td>because I'm have no security Im ways worried when I go out ill be robbed. I ll have more security in a block house\\nAudio: Yes, it would change my life because I'd be safe. I can go somewhere. Even if I sleep elsewhere I know I won't have a problem.</td>\n",
       "      <td>I suffer from a cold that ll not go away and constant itching and pricking sensation all over.</td>\n",
       "    </tr>\n",
       "    <tr>\n",
       "      <th>2</th>\n",
       "      <td>I was living th my father the moved out and ended up here in passing and stayed\\nAudio: My mom and dad had me here. I'm here because of them. I've been here since I was little. I was born here.</td>\n",
       "      <td>Rats disturb me relentlessly at night, sun up the heat is unbearable, no sleep day or night\\nAudio: At night I can't sleep. Even during the day when it's sunny I can't sleep. I have to go get fresh air outside because there's too much heat. When I cover food in inside, rats come and eat it. I can't eat from it again.</td>\n",
       "      <td>When ll the house be finish, can't take living in the tent</td>\n",
       "      <td>Yes! Because more secure when I go out, rats would no long harrass me , protected from forceful nds.\\nAudio: Yes, it'll change my life because it will be better than the tarp. Ill be safer. When you're in a block house you're safer.</td>\n",
       "      <td>I often suffer from fever and cold chills.</td>\n",
       "    </tr>\n",
       "    <tr>\n",
       "      <th>3</th>\n",
       "      <td>I moved near a friend I met my child's father we rented a home together relationship became abusive he left us I moved here th my child</td>\n",
       "      <td>Heat, When it rains water floods the tent, the rats disturb my sleep thought the night.\\nAudio: When it rains, water gets inside. The kids may be sleeping and water floods underneith them. Also, rats are eating holes in the tarps. The tarps are torn. I patch it with pieces of wood and tin. During the day I can't sleep. Even if I have a child that's sick, I can't let it lie down inside during the day because of the heat. I can't breathe it's so hot. At night it's cold, during the day it's hot.</td>\n",
       "      <td>What I an say is for The Good Lord to make it so everyone can get a home</td>\n",
       "      <td>Because the children ll be th me soon  and they ll not have a place to sleep and the heat is killing us and the rats disturb our sleep.\\nAudio: Yes, it can change my life. I think that if we have a house, and if each child has a place to sleep, in a room, with a bed, it'll be better for us. It'll be a good change for me.</td>\n",
       "      <td>I have fever often, the kids have diarrhea, dizziness and stomach aches.</td>\n",
       "    </tr>\n",
       "    <tr>\n",
       "      <th>4</th>\n",
       "      <td>My uncle is a pastor. While he was away on a mission God revealed to him he should come and live in Titanyen, so he had to bring all of us here. That's why I stayed in Titanyen to live. I grew old here.</td>\n",
       "      <td>The gives many problems, the worst place, flu, fever,  Diarrhea.\\nAudio: The tent makes me almost have asthma, because I can't stay inside it at all. At night I can't sleep inside it. During the day I can't lay down inside. I have to go sleep outside under a tree. I have to go sleep at a neighbor's house eventhough I have my own place. It's not good for me at all. It makes me sick.</td>\n",
       "      <td>I would like to know how long it ll take to build the house. RE:bad conditions</td>\n",
       "      <td>My uncle is a pastor and I came here th the missionaries and God but in his heart to move us to tatianyen\\nAudio: It'll bring about many changes for me because I'll be safer with my children. My things will be safer, too. When you're living under a tarp you don't live well.</td>\n",
       "      <td>The only thing I suffer from is hypotension.</td>\n",
       "    </tr>\n",
       "  </tbody>\n",
       "</table>\n",
       "</div>"
      ],
      "text/plain": [
       "                                                                                                                                                                                                                                                                                                                                                                                      Family Bacgkround  \\\n",
       "0                                                                                       I'm from Kalone, we came here to make coal and we stayed.  I got married & gave birth here .\\nAudio: What led us here is that we were here making charcoal for a time. While we were here, there was no one else in the area. We stayed here instead of going back. We built a house here, we got married here.   \n",
       "1  I'm from Patyo is neighboring town to Kalone, I came hear for my relatives funeral and stayed.\\nAudio: What brought me to the area... left my home land when I was small and moved to Titanyen. We had a death in the family, and so we came here to attend the funeral, and we stayed. Ever since then we've been living here. January 12 happened, and they gave us the tent. We live in the tent.   \n",
       "2                                                                                                                                                                                                     I was living th my father the moved out and ended up here in passing and stayed\\nAudio: My mom and dad had me here. I'm here because of them. I've been here since I was little. I was born here.   \n",
       "3                                                                                                                                                                                                                                                               I moved near a friend I met my child's father we rented a home together relationship became abusive he left us I moved here th my child   \n",
       "4                                                                                                                                                                                            My uncle is a pastor. While he was away on a mission God revealed to him he should come and live in Titanyen, so he had to bring all of us here. That's why I stayed in Titanyen to live. I grew old here.   \n",
       "\n",
       "                                                                                                                                                                                                                                                                                                                                                                                                                                                                          Problems in the Tent - Additional Comments  \\\n",
       "0                                                                                                                                                                                                                                                            the tent is to hot, to many rats and they make me sick often \\nAudio: Rats! I can't sleep inside because of the rats. Rats are crawling all over us and destroying us. The heat, too. I can hardly see in my eyes. I keep having to go to the doctor's.   \n",
       "1                                                                                                                                                                                                                                                                                          My problem are the mosquito's and its so hot I can't  sleep.\\nAudio: Every so often I get a cold. It gives me a fever. The heat is awful. I can't live here. I don't sleep well. Mosquitoes make me unable to sleep well.   \n",
       "2                                                                                                                                                                                     Rats disturb me relentlessly at night, sun up the heat is unbearable, no sleep day or night\\nAudio: At night I can't sleep. Even during the day when it's sunny I can't sleep. I have to go get fresh air outside because there's too much heat. When I cover food in inside, rats come and eat it. I can't eat from it again.   \n",
       "3  Heat, When it rains water floods the tent, the rats disturb my sleep thought the night.\\nAudio: When it rains, water gets inside. The kids may be sleeping and water floods underneith them. Also, rats are eating holes in the tarps. The tarps are torn. I patch it with pieces of wood and tin. During the day I can't sleep. Even if I have a child that's sick, I can't let it lie down inside during the day because of the heat. I can't breathe it's so hot. At night it's cold, during the day it's hot.   \n",
       "4                                                                                                                   The gives many problems, the worst place, flu, fever,  Diarrhea.\\nAudio: The tent makes me almost have asthma, because I can't stay inside it at all. At night I can't sleep inside it. During the day I can't lay down inside. I have to go sleep outside under a tree. I have to go sleep at a neighbor's house eventhough I have my own place. It's not good for me at all. It makes me sick.   \n",
       "\n",
       "          Do you have any other comments, questions or other information you’d like to add?  \\\n",
       "0  Im no longer working in Selmale, summer time I work because no rain, I'm sick in my eyes   \n",
       "1                        My biggest problem is the tent, sh the house could be built faster   \n",
       "2                                When ll the house be finish, can't take living in the tent   \n",
       "3                  What I an say is for The Good Lord to make it so everyone can get a home   \n",
       "4            I would like to know how long it ll take to build the house. RE:bad conditions   \n",
       "\n",
       "                                                                                                                                                                                                                                                                        Would living in a block home create any changes in your life?  \\\n",
       "0                                                                                                                                                                          The tent doesn't have much security when it rains l, the discomfort when the strong nd blows, living in fear\\nAudio: It'll be better for me than the tarp.   \n",
       "1                                                                           because I'm have no security Im ways worried when I go out ill be robbed. I ll have more security in a block house\\nAudio: Yes, it would change my life because I'd be safe. I can go somewhere. Even if I sleep elsewhere I know I won't have a problem.   \n",
       "2                                                                                            Yes! Because more secure when I go out, rats would no long harrass me , protected from forceful nds.\\nAudio: Yes, it'll change my life because it will be better than the tarp. Ill be safer. When you're in a block house you're safer.   \n",
       "3  Because the children ll be th me soon  and they ll not have a place to sleep and the heat is killing us and the rats disturb our sleep.\\nAudio: Yes, it can change my life. I think that if we have a house, and if each child has a place to sleep, in a room, with a bed, it'll be better for us. It'll be a good change for me.   \n",
       "4                                                  My uncle is a pastor and I came here th the missionaries and God but in his heart to move us to tatianyen\\nAudio: It'll bring about many changes for me because I'll be safer with my children. My things will be safer, too. When you're living under a tarp you don't live well.   \n",
       "\n",
       "                                                                     Additional Comments - Health  \n",
       "0                           I suffer from a hernia, my eyes are sick. I'm in the hospital weekly   \n",
       "1  I suffer from a cold that ll not go away and constant itching and pricking sensation all over.  \n",
       "2                                                      I often suffer from fever and cold chills.  \n",
       "3                       I have fever often, the kids have diarrhea, dizziness and stomach aches.   \n",
       "4                                                    The only thing I suffer from is hypotension.  "
      ]
     },
     "execution_count": 4,
     "metadata": {},
     "output_type": "execute_result"
    }
   ],
   "source": [
    "data1.head()"
   ]
  },
  {
   "cell_type": "code",
   "execution_count": null,
   "metadata": {},
   "outputs": [],
   "source": []
  }
 ],
 "metadata": {
  "anaconda-cloud": {},
  "kernelspec": {
   "display_name": "Python 3 (ipykernel)",
   "language": "python",
   "name": "python3"
  },
  "language_info": {
   "codemirror_mode": {
    "name": "ipython",
    "version": 3
   },
   "file_extension": ".py",
   "mimetype": "text/x-python",
   "name": "python",
   "nbconvert_exporter": "python",
   "pygments_lexer": "ipython3",
   "version": "3.8.18"
  }
 },
 "nbformat": 4,
 "nbformat_minor": 1
}
